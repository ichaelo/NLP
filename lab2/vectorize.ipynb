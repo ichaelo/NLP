{
 "cells": [
  {
   "cell_type": "markdown",
   "metadata": {},
   "source": [
    "<h1> <strong> Лабораторная работа 2"
   ]
  },
  {
   "cell_type": "markdown",
   "metadata": {},
   "source": [
    "<h3> Суть - векторизовать контент статьи и кластеризовать данные"
   ]
  },
  {
   "cell_type": "code",
   "execution_count": 91,
   "metadata": {},
   "outputs": [
    {
     "name": "stderr",
     "output_type": "stream",
     "text": [
      "[nltk_data] Downloading package stopwords to\n",
      "[nltk_data]     C:\\Users\\Potron\\AppData\\Roaming\\nltk_data...\n",
      "[nltk_data]   Package stopwords is already up-to-date!\n",
      "[nltk_data] Downloading package punkt to\n",
      "[nltk_data]     C:\\Users\\Potron\\AppData\\Roaming\\nltk_data...\n",
      "[nltk_data]   Package punkt is already up-to-date!\n"
     ]
    },
    {
     "data": {
      "text/plain": [
       "True"
      ]
     },
     "execution_count": 91,
     "metadata": {},
     "output_type": "execute_result"
    }
   ],
   "source": [
    "import sqlite3\n",
    "import nltk\n",
    "from nltk.corpus import stopwords\n",
    "import matplotlib.pyplot as plt\n",
    "import seaborn as sns\n",
    "import string\n",
    "nltk.download('stopwords')\n",
    "nltk.download('punkt')"
   ]
  },
  {
   "cell_type": "code",
   "execution_count": 125,
   "metadata": {},
   "outputs": [],
   "source": [
    "connection = sqlite3.connect('articles.db')\n",
    "cursor = connection.cursor()\n",
    "\n",
    "cursor.execute(\"\"\"SELECT contents FROM articles LIMIT 231\"\"\")\n",
    "articles = cursor.fetchall()"
   ]
  },
  {
   "cell_type": "markdown",
   "metadata": {},
   "source": [
    "<h3> Подготовка"
   ]
  },
  {
   "cell_type": "code",
   "execution_count": 126,
   "metadata": {},
   "outputs": [],
   "source": [
    "from natasha import (\n",
    "    Segmenter,\n",
    "    MorphVocab,\n",
    "\n",
    "    NewsEmbedding,\n",
    "    NewsMorphTagger,\n",
    "    NewsSyntaxParser,\n",
    "    NewsNERTagger,\n",
    "\n",
    "    PER,\n",
    "    NamesExtractor,\n",
    "\n",
    "    Doc\n",
    ")\n",
    "\n",
    "segmenter = Segmenter()\n",
    "morph_vocab = MorphVocab()\n",
    "\n",
    "emb = NewsEmbedding()\n",
    "morph_tagger = NewsMorphTagger(emb)\n",
    "syntax_parser = NewsSyntaxParser(emb)\n",
    "ner_tagger = NewsNERTagger(emb)\n",
    "\n",
    "names_extractor = NamesExtractor(morph_vocab)"
   ]
  },
  {
   "cell_type": "markdown",
   "metadata": {},
   "source": [
    "<h2> 1. Нормализация"
   ]
  },
  {
   "cell_type": "markdown",
   "metadata": {},
   "source": [
    "<h3> Статья для векторизации"
   ]
  },
  {
   "cell_type": "code",
   "execution_count": 129,
   "metadata": {},
   "outputs": [
    {
     "data": {
      "text/plain": [
       "['Австралийский разработчик вертипортов Skyportz начинает расширение своей деятельности с запуском авиакомпании Wilbur Air, предлагающей грузовые и пассажирские перевозки.',\n",
       " 'Вертипорт — это аэродром, предназначенный для вертикального взлёта и посадки воздушных судов, таких как вертолёты и вертикально взлетающие и садящиеся (VTOL) самолёты.',\n",
       " 'Это системы,\\xa0включающие в себя взлётно-посадочные площадки, терминалы для пассажиров, зоны обслуживания, а также инфраструктуру для зарядки и обслуживания электрических воздушных судов.',\n",
       " 'Они играют большую роль в интеграции беспилотных воздушных транспортных систем и управлении воздушным пространством в условиях повышенной мобильности.',\n",
       " 'Для компании Skyportz вертипорты являются ключевым компонентом их деятельности в области Advanced Air Mobility (AAM).',\n",
       " 'Skyportz занимается разработкой, строительством и эксплуатацией вертипортов по всей Австралии.',\n",
       " 'За последние пять лет Skyportz посвятила свою деятельность развитию вертипортов по всей Австралии и провела обширные исследования для облегчения развития инфраструктуры AAM на международном уровне.',\n",
       " 'С запуском Wilbur Air компания расширяет свою роль в качестве поставщика воздушной инфраструктуры для конечных пользователей и клиентов.',\n",
       " 'Создание этого дочернего предприятия направлено на ускорение внедрения и расширение ассортимента самолётов, предлагаемых в австралийском воздушном пространстве.',\n",
       " 'Изначально Skyportz планирует использовать 100 самолётов AAM американского производителя Electra.Aero для своих транспортных услуг Wilbur Air.',\n",
       " 'В отличие от большинства стартапов в области воздушного такси, Skyportz выбрала электрические самолёты с коротким взлётом и посадкой (eSTOL) от Electra.Aero вместо вертикального взлёта и посадки (VTOL).',\n",
       " 'Хотя для взлёта самолёты eSTOL требуют 30–50 метров взлётно-посадочной полосы, в отличие от VTOL, их низкие энергозатраты на взлёт позволяют им обеспечить больший дальность полёта на одной зарядке.',\n",
       " '«Наш eSTOL идеально подходит для разнообразной географии Австралии, он может использовать короткие взлётно-посадочные полосы как в городских, так и в удалённых районах, обеспечивая при этом высокую операционную эффективность.',\n",
       " 'Мы рассчитываем на поддержку Wilbur Air в улучшении региональной связности, доступности и охране окружающей среды во всей Австралии», — отметил директор по продукции Electra.Aero Марк Аусман.',\n",
       " 'Хотя Wilbur Air будет «предпочтительной авиакомпанией для всех вертипортов», Skyportz заявила, что будет продолжать развивать и продавать свои вертипорты в качестве поставщиков инфраструктуры и услуг, открытых\\xa0для всех операторов AAM.',\n",
       " 'Кроме того, компания планирует сотрудничать с устоявшимися авиаперевозчиками, стремящимися расширить свою деятельность с помощью самолётов нового поколения.',\n",
       " '«Wilbur будет устанавливать партнёрские отношения по всей Австралии с существующими небольшими чартерными и вертолётными компаниями, заинтересованными в переходе на Advanced Air Mobility и осуществлении полётов под брендом Wilbur с приоритетным доступом к нашим вертипортам Skyportz.',\n",
       " 'Мы видим большой потенциал для самолётов Electra в Австралии, учитывая их уникальную дальность полёта», — заявил генеральный директор компании Клем Ньютон-Браун.']"
      ]
     },
     "execution_count": 129,
     "metadata": {},
     "output_type": "execute_result"
    }
   ],
   "source": [
    "import nltk\n",
    "\n",
    "article = articles[80] # вроде бы самая длинная статья\n",
    "\n",
    "# Чиним статью. Сейчас каждая статья - это одна большая строка (str) с предложениями в кортежах. Получается список кортежей со статьями \n",
    "# Статью нужно разделить на предложения, которые будут отдельным элементом списка (т.е. [0 - первое предложение, 1 - второе предложение, ...])\n",
    "# Если этого не сделать, то PCA не позволит сжать векторы до двух точек, из-за того, что, как я понял, в набор данных содержится всего лишь один объект (одна строка)\n",
    "# Разбиение предложений на отдельные позиции списка позволит увеличить диапазон допустимых компонент (n_components)\n",
    "\n",
    "articleForVectorize = list(article)\n",
    "\n",
    "articleDividedIntoSentence = []\n",
    "\n",
    "for i in articleForVectorize:\n",
    "    sent = nltk.sent_tokenize(i, language=\"russian\") # можно было бы при помощи split(\".\"), но в статье есть название компании Electra.Aero. split считает эту точку как конец предложения\n",
    "    for j in sent:\n",
    "        articleDividedIntoSentence.append(j)\n",
    "\n",
    "articleDividedIntoSentence"
   ]
  },
  {
   "cell_type": "markdown",
   "metadata": {},
   "source": [
    "<h3> Избавиться от пунктуации и прочего мусора"
   ]
  },
  {
   "cell_type": "code",
   "execution_count": 130,
   "metadata": {},
   "outputs": [
    {
     "data": {
      "text/plain": [
       "['Австралийский разработчик вертипортов Skyportz начинает расширение своей деятельности с запуском авиакомпании Wilbur Air предлагающей грузовые и пассажирские перевозки',\n",
       " 'Вертипорт  это аэродром предназначенный для вертикального взлёта и посадки воздушных судов таких как вертолёты и вертикально взлетающие и садящиеся VTOL самолёты',\n",
       " 'Это системывключающие в себя взлётнопосадочные площадки терминалы для пассажиров зоны обслуживания а также инфраструктуру для зарядки и обслуживания электрических воздушных судов',\n",
       " 'Они играют большую роль в интеграции беспилотных воздушных транспортных систем и управлении воздушным пространством в условиях повышенной мобильности',\n",
       " 'Для компании Skyportz вертипорты являются ключевым компонентом их деятельности в области Advanced Air Mobility AAM',\n",
       " 'Skyportz занимается разработкой строительством и эксплуатацией вертипортов по всей Австралии',\n",
       " 'За последние пять лет Skyportz посвятила свою деятельность развитию вертипортов по всей Австралии и провела обширные исследования для облегчения развития инфраструктуры AAM на международном уровне',\n",
       " 'С запуском Wilbur Air компания расширяет свою роль в качестве поставщика воздушной инфраструктуры для конечных пользователей и клиентов',\n",
       " 'Создание этого дочернего предприятия направлено на ускорение внедрения и расширение ассортимента самолётов предлагаемых в австралийском воздушном пространстве',\n",
       " 'Изначально Skyportz планирует использовать  самолётов AAM американского производителя ElectraAero для своих транспортных услуг Wilbur Air',\n",
       " 'В отличие от большинства стартапов в области воздушного такси Skyportz выбрала электрические самолёты с коротким взлётом и посадкой eSTOL от ElectraAero вместо вертикального взлёта и посадки VTOL',\n",
       " 'Хотя для взлёта самолёты eSTOL требуют – метров взлётнопосадочной полосы в отличие от VTOL их низкие энергозатраты на взлёт позволяют им обеспечить больший дальность полёта на одной зарядке',\n",
       " 'Наш eSTOL идеально подходит для разнообразной географии Австралии он может использовать короткие взлётнопосадочные полосы как в городских так и в удалённых районах обеспечивая при этом высокую операционную эффективность',\n",
       " 'Мы рассчитываем на поддержку Wilbur Air в улучшении региональной связности доступности и охране окружающей среды во всей Австралии  отметил директор по продукции ElectraAero Марк Аусман',\n",
       " 'Хотя Wilbur Air будет предпочтительной авиакомпанией для всех вертипортов Skyportz заявила что будет продолжать развивать и продавать свои вертипорты в качестве поставщиков инфраструктуры и услуг открытыхдля всех операторов AAM',\n",
       " 'Кроме того компания планирует сотрудничать с устоявшимися авиаперевозчиками стремящимися расширить свою деятельность с помощью самолётов нового поколения',\n",
       " 'Wilbur будет устанавливать партнёрские отношения по всей Австралии с существующими небольшими чартерными и вертолётными компаниями заинтересованными в переходе на Advanced Air Mobility и осуществлении полётов под брендом Wilbur с приоритетным доступом к нашим вертипортам Skyportz',\n",
       " 'Мы видим большой потенциал для самолётов Electra в Австралии учитывая их уникальную дальность полёта  заявил генеральный директор компании Клем НьютонБраун']"
      ]
     },
     "execution_count": 130,
     "metadata": {},
     "output_type": "execute_result"
    }
   ],
   "source": [
    "delete_punctuation = set(string.punctuation + '«»—' + string.digits + '\\n' + '\\xa0')\n",
    "for i in articleDividedIntoSentence:\n",
    "    cleaned_article = list(map(lambda x: ''.join(word for word in x if word not in delete_punctuation), articleDividedIntoSentence))\n",
    "\n",
    "\n",
    "cleaned_article"
   ]
  },
  {
   "cell_type": "markdown",
   "metadata": {},
   "source": [
    "<h3>Лемматизация"
   ]
  },
  {
   "cell_type": "code",
   "execution_count": 131,
   "metadata": {},
   "outputs": [
    {
     "data": {
      "text/plain": [
       "['австралийский разработчик вертипорт skyportz начинать расширение свой деятельность запуск авиакомпания wilbur air предлагать грузовой пассажирский перевозка',\n",
       " 'вертипорт это аэродром предназначить вертикальный взлет посадка воздушный судно вертолет вертикально взлетающие садиться vtol самолет',\n",
       " 'это системывключать взлетнопосадочный площадка терминал пассажир зона обслуживание также инфраструктура зарядка обслуживание электрический воздушный судно',\n",
       " 'играть больший роль интеграция беспилотный воздушный транспортный система управление воздушный пространство условие повышенный мобильность',\n",
       " 'компания skyportz вертипорт являться ключевой компонент деятельность область advanced air mobility aam',\n",
       " 'skyportz заниматься разработка строительство эксплуатация вертипорт весь австралия',\n",
       " 'последний пять год skyportz посвятить свой деятельность развитие вертипорт весь австралия провести обширный исследование облегчение развитие инфраструктура aam международный уровень',\n",
       " 'запуск wilbur air компания расширять свой роль качество поставщик воздушный инфраструктура конечный пользователь клиент',\n",
       " 'создание это дочерний предприятие направить ускорение внедрение расширение ассортимент самолет предлагать австралийский воздушный пространство',\n",
       " 'изначально skyportz планировать использовать самолет aam американский производитель electraaero свой транспортный услуга wilbur air',\n",
       " 'отличие большинство стартап область воздушный такси skyportz выбрать электрический самолет короткий взлет посадка estol electraaero вместо вертикальный взлет посадка vtol',\n",
       " 'хотя взлет самолет estol требовать – метр взлетнопосадочный полоса отличие vtol низкий энергозатраты взлет позволять обеспечить больший дальность полет зарядка',\n",
       " 'наш estol идеально подходить разнообразный география австралия мочь использовать короткий взлетнопосадочный полоса городской удаленный район обеспечивать это высокий операционный эффективность',\n",
       " 'рассчитывать поддержка wilbur air улучшение региональный связности доступность охрана окружать среда весь австралия отметить директор продукция electraaero марк аусман',\n",
       " 'хотя wilbur air предпочтительный авиакомпания весь вертипорт skyportz заявить продолжать развивать продавать свой вертипорт качество поставщик инфраструктура услуга открытыхдля весь оператор aam',\n",
       " 'кроме компания планировать сотрудничать устояться авиаперевозчик стремиться расширить свой деятельность помощь самолет новый поколение',\n",
       " 'wilbur устанавливать партнерский отношение весь австралия существовать небольшой чартерный вертолетный компания заинтересованный переход advanced air mobility осуществление полет бренд wilbur приоритетный доступ наш вертипорт skyportz',\n",
       " 'видеть большой потенциал самолет electra австралия учитывать уникальный дальность полет заявить генеральный директор компания клем ньютонбраун']"
      ]
     },
     "execution_count": 131,
     "metadata": {},
     "output_type": "execute_result"
    }
   ],
   "source": [
    "stop_words = set(stopwords.words('russian'))\n",
    "\n",
    "def normalize_text(text):\n",
    "    doc = Doc(text)\n",
    "    doc.segment(segmenter)\n",
    "    doc.tag_morph(morph_tagger)\n",
    "    \n",
    "    normalized_tokens = []\n",
    "    for token in doc.tokens:\n",
    "        token.lemmatize(morph_vocab)\n",
    "        if token.lemma not in stop_words:\n",
    "            normalized_tokens.append(token.lemma)\n",
    "    return ' '.join(normalized_tokens)\n",
    "\n",
    "\n",
    "normalized_article = [normalize_text(text) for text in cleaned_article]\n",
    "normalized_article"
   ]
  },
  {
   "cell_type": "markdown",
   "metadata": {},
   "source": [
    "<h2>2. Векторизация"
   ]
  },
  {
   "cell_type": "code",
   "execution_count": 132,
   "metadata": {},
   "outputs": [
    {
     "name": "stdout",
     "output_type": "stream",
     "text": [
      "TF-IDF:\n",
      "['aam' 'advanced' 'air' 'electra' 'electraaero' 'estol' 'mobility'\n",
      " 'skyportz' 'vtol' 'wilbur' 'авиакомпания' 'авиаперевозчик'\n",
      " 'австралийский' 'австралия' 'американский' 'ассортимент' 'аусман'\n",
      " 'аэродром' 'беспилотный' 'больший' 'большинство' 'большой' 'бренд'\n",
      " 'вертикально' 'вертикальный' 'вертипорт' 'вертолет' 'вертолетный' 'весь'\n",
      " 'взлет' 'взлетающие' 'взлетнопосадочный' 'видеть' 'вместо' 'внедрение'\n",
      " 'воздушный' 'выбрать' 'высокий' 'генеральный' 'география' 'год'\n",
      " 'городской' 'грузовой' 'дальность' 'деятельность' 'директор' 'доступ'\n",
      " 'доступность' 'дочерний' 'заинтересованный' 'заниматься' 'запуск'\n",
      " 'зарядка' 'заявить' 'зона' 'играть' 'идеально' 'изначально' 'интеграция'\n",
      " 'инфраструктура' 'использовать' 'исследование' 'качество' 'клем' 'клиент'\n",
      " 'ключевой' 'компания' 'компонент' 'конечный' 'короткий' 'кроме' 'марк'\n",
      " 'международный' 'метр' 'мобильность' 'мочь' 'направить' 'начинать' 'наш'\n",
      " 'небольшой' 'низкий' 'новый' 'ньютонбраун' 'обеспечивать' 'обеспечить'\n",
      " 'область' 'облегчение' 'обслуживание' 'обширный' 'окружать' 'оператор'\n",
      " 'операционный' 'осуществление' 'открытыхдля' 'отличие' 'отметить'\n",
      " 'отношение' 'охрана' 'партнерский' 'пассажир' 'пассажирский' 'перевозка'\n",
      " 'переход' 'планировать' 'площадка' 'повышенный' 'поддержка' 'подходить'\n",
      " 'позволять' 'поколение' 'полет' 'полоса' 'пользователь' 'помощь'\n",
      " 'посадка' 'посвятить' 'последний' 'поставщик' 'потенциал' 'предлагать'\n",
      " 'предназначить' 'предпочтительный' 'предприятие' 'приоритетный'\n",
      " 'провести' 'продавать' 'продолжать' 'продукция' 'производитель'\n",
      " 'пространство' 'пять' 'развивать' 'развитие' 'разнообразный' 'разработка'\n",
      " 'разработчик' 'район' 'рассчитывать' 'расширение' 'расширить' 'расширять'\n",
      " 'региональный' 'роль' 'садиться' 'самолет' 'свой' 'связности' 'система'\n",
      " 'системывключать' 'создание' 'сотрудничать' 'среда' 'стартап'\n",
      " 'стремиться' 'строительство' 'судно' 'существовать' 'также' 'такси'\n",
      " 'терминал' 'транспортный' 'требовать' 'удаленный' 'улучшение'\n",
      " 'уникальный' 'управление' 'уровень' 'ускорение' 'условие' 'услуга'\n",
      " 'устанавливать' 'устояться' 'учитывать' 'хотя' 'чартерный' 'эксплуатация'\n",
      " 'электрический' 'энергозатраты' 'это' 'эффективность' 'являться']\n",
      "[[0.         0.         0.17256826 ... 0.         0.         0.        ]\n",
      " [0.         0.         0.         ... 0.2156751  0.         0.        ]\n",
      " [0.         0.         0.         ... 0.18973853 0.         0.        ]\n",
      " ...\n",
      " [0.         0.         0.         ... 0.         0.         0.        ]\n",
      " [0.         0.19755551 0.12946695 ... 0.         0.         0.        ]\n",
      " [0.         0.         0.         ... 0.         0.         0.        ]]\n"
     ]
    }
   ],
   "source": [
    "from sklearn.feature_extraction.text import TfidfVectorizer\n",
    "\n",
    "vectorizer = TfidfVectorizer()\n",
    "X = vectorizer.fit_transform(normalized_article)\n",
    "print(\"TF-IDF:\")\n",
    "print(vectorizer.get_feature_names_out())\n",
    "print(X.toarray())"
   ]
  },
  {
   "cell_type": "markdown",
   "metadata": {},
   "source": [
    "<h4>Count"
   ]
  },
  {
   "cell_type": "markdown",
   "metadata": {},
   "source": [
    "<h2> 3. Сжатие векторов"
   ]
  },
  {
   "cell_type": "code",
   "execution_count": 133,
   "metadata": {},
   "outputs": [
    {
     "data": {
      "text/plain": [
       "array([[-0.29787926,  0.33979882],\n",
       "       [ 0.48676575, -0.04488885],\n",
       "       [ 0.301964  ,  0.15030057],\n",
       "       [ 0.19488602,  0.46117677],\n",
       "       [-0.30095462, -0.15349361],\n",
       "       [-0.22493319, -0.33086977],\n",
       "       [-0.27608647, -0.1299776 ],\n",
       "       [-0.21693123,  0.3707879 ],\n",
       "       [ 0.17912709,  0.532837  ],\n",
       "       [-0.20447977,  0.06369994],\n",
       "       [ 0.51643085, -0.20249829],\n",
       "       [ 0.4924523 , -0.25399707],\n",
       "       [ 0.22725169, -0.19185196],\n",
       "       [-0.14533745, -0.19085607],\n",
       "       [-0.40753395, -0.03992687],\n",
       "       [-0.07428783,  0.12076392],\n",
       "       [-0.29673156, -0.26448893],\n",
       "       [ 0.04627763, -0.23651591]])"
      ]
     },
     "execution_count": 133,
     "metadata": {},
     "output_type": "execute_result"
    }
   ],
   "source": [
    "from sklearn.decomposition import PCA\n",
    "\n",
    "pca = PCA(n_components=2)\n",
    "X_pca = pca.fit_transform(X.toarray())\n",
    "X_pca"
   ]
  },
  {
   "cell_type": "markdown",
   "metadata": {},
   "source": [
    "<h2>4. Кластеризация и результаты анализа"
   ]
  },
  {
   "cell_type": "markdown",
   "metadata": {},
   "source": [
    "<h4>DBSCAN"
   ]
  },
  {
   "cell_type": "code",
   "execution_count": 134,
   "metadata": {},
   "outputs": [
    {
     "data": {
      "text/plain": [
       "array([ 0,  1, -1,  2,  3,  3,  3,  0,  2,  4,  1,  1,  3,  3,  3,  4,  3,\n",
       "        3], dtype=int64)"
      ]
     },
     "execution_count": 134,
     "metadata": {},
     "output_type": "execute_result"
    }
   ],
   "source": [
    "from sklearn.cluster import DBSCAN\n",
    "\n",
    "dbscan = DBSCAN(eps=0.2, min_samples=2) # 0.5 многовато для этой статьи, ибо всё захватывается в один кластер\n",
    "clustersDBS = dbscan.fit_predict(X_pca) \n",
    "clustersDBS # предсказываем, в каком кластере окажется каждое предложение статьи"
   ]
  },
  {
   "cell_type": "code",
   "execution_count": 120,
   "metadata": {},
   "outputs": [
    {
     "data": {
      "image/png": "[encoded data removed]",
      "text/plain": [
       "<Figure size 1000x700 with 2 Axes>"
      ]
     },
     "metadata": {},
     "output_type": "display_data"
    },
    {
     "name": "stdout",
     "output_type": "stream",
     "text": [
      "Cluster 0:\n",
      "['Австралийский разработчик вертипортов Skyportz начинает расширение своей деятельности с запуском авиакомпании Wilbur Air предлагающей грузовые и пассажирские перевозки', 'С запуском Wilbur Air компания расширяет свою роль в качестве поставщика воздушной инфраструктуры для конечных пользователей и клиентов']\n",
      "Cluster 1:\n",
      "['Вертипорт  это аэродром предназначенный для вертикального взлёта и посадки воздушных судов таких как вертолёты и вертикально взлетающие и садящиеся VTOL самолёты', 'В отличие от большинства стартапов в области воздушного такси Skyportz выбрала электрические самолёты с коротким взлётом и посадкой eSTOL от ElectraAero вместо вертикального взлёта и посадки VTOL', 'Хотя для взлёта самолёты eSTOL требуют – метров взлётнопосадочной полосы в отличие от VTOL их низкие энергозатраты на взлёт позволяют им обеспечить больший дальность полёта на одной зарядке']\n",
      "Cluster 2:\n",
      "['Они играют большую роль в интеграции беспилотных воздушных транспортных систем и управлении воздушным пространством в условиях повышенной мобильности', 'Создание этого дочернего предприятия направлено на ускорение внедрения и расширение ассортимента самолётов предлагаемых в австралийском воздушном пространстве']\n",
      "Cluster 3:\n",
      "['Для компании Skyportz вертипорты являются ключевым компонентом их деятельности в области Advanced Air Mobility AAM', 'Skyportz занимается разработкой строительством и эксплуатацией вертипортов по всей Австралии', 'За последние пять лет Skyportz посвятила свою деятельность развитию вертипортов по всей Австралии и провела обширные исследования для облегчения развития инфраструктуры AAM на международном уровне', 'Наш eSTOL идеально подходит для разнообразной географии Австралии он может использовать короткие взлётнопосадочные полосы как в городских так и в удалённых районах обеспечивая при этом высокую операционную эффективность', 'Мы рассчитываем на поддержку Wilbur Air в улучшении региональной связности доступности и охране окружающей среды во всей Австралии  отметил директор по продукции ElectraAero Марк Аусман', 'Хотя Wilbur Air будет предпочтительной авиакомпанией для всех вертипортов Skyportz заявила что будет продолжать развивать и продавать свои вертипорты в качестве поставщиков инфраструктуры и услуг открытыхдля всех операторов AAM', 'Wilbur будет устанавливать партнёрские отношения по всей Австралии с существующими небольшими чартерными и вертолётными компаниями заинтересованными в переходе на Advanced Air Mobility и осуществлении полётов под брендом Wilbur с приоритетным доступом к нашим вертипортам Skyportz', 'Мы видим большой потенциал для самолётов Electra в Австралии учитывая их уникальную дальность полёта  заявил генеральный директор компании Клем НьютонБраун']\n",
      "Cluster 4:\n",
      "['Изначально Skyportz планирует использовать  самолётов AAM американского производителя ElectraAero для своих транспортных услуг Wilbur Air', 'Кроме того компания планирует сотрудничать с устоявшимися авиаперевозчиками стремящимися расширить свою деятельность с помощью самолётов нового поколения']\n",
      "Cluster -1:\n",
      "['Это системывключающие в себя взлётнопосадочные площадки терминалы для пассажиров зоны обслуживания а также инфраструктуру для зарядки и обслуживания электрических воздушных судов']\n"
     ]
    }
   ],
   "source": [
    "import pandas as pd\n",
    "\n",
    "dfDBSCAN = pd.DataFrame({'x': X_pca[:, 0], 'y': X_pca[:, 1], 'cluster': clustersDBS})\n",
    "\n",
    "plt.figure(figsize=(10, 7))\n",
    "plt.scatter(dfDBSCAN['x'], dfDBSCAN['y'], c=dfDBSCAN['cluster'], cmap='viridis', marker='o')\n",
    "plt.title('DBSCAN Clustering')\n",
    "plt.xlabel('PCA Component 1')\n",
    "plt.ylabel('PCA Component 2')\n",
    "plt.colorbar(label='Cluster')\n",
    "plt.show()\n",
    "\n",
    "for cluster in set(clustersDBS):\n",
    "    print(f\"Cluster {cluster}:\")\n",
    "    cluster_texts = [cleaned_article[i] for i in range(len(clustersDBS)) if clustersDBS[i] == cluster]\n",
    "    print(cluster_texts)"
   ]
  },
  {
   "cell_type": "markdown",
   "metadata": {},
   "source": [
    "<h2><strong>Анализ</strong><h2>"
   ]
  },
  {
   "cell_type": "markdown",
   "metadata": {},
   "source": [
    "<h3> В результате кластеризации при помощи DBSCAN получилось 5 кластеров и 1 кластер с выбросами </h3>\n",
    "<h5> В предложениях нулевого кластера говорится о запуске авиакомпании Wilbur Air</h5>\n",
    "<h5> В предложениях первого кластера можно наблюдать терминологию и особенности самолётов eSTOL и VTOL </h5>\n",
    "<h5> В предложениях второго кластера описывается информация о развитии воздушно-транспортных средств (очень натянутое утверждение)</h5>\n",
    "<h5> В предложениях третьего кластера рассказывается про деятельность Skyportz и будущие планы развития Wilbur Air</h5>\n",
    "<h5> В предложениях четвёртого кластера содержатся информация о том, что планирует делать компания Skyportz </h5>\n",
    "<h5> В -1 кластере содержаться предложение-\"выброс\", т.е. его нельзя отнести к какому-либо кластеру, ничего общего у него с другими предложениями нет</h5>"
   ]
  },
  {
   "cell_type": "markdown",
   "metadata": {},
   "source": [
    "<h2> Стало интересно узнать, как с этим справиться KMeans </h2>"
   ]
  },
  {
   "cell_type": "markdown",
   "metadata": {},
   "source": [
    "<h4>KMeans"
   ]
  },
  {
   "cell_type": "code",
   "execution_count": 135,
   "metadata": {},
   "outputs": [
    {
     "data": {
      "text/plain": [
       "array([0, 4, 2, 5, 1, 1, 1, 0, 5, 3, 4, 4, 4, 1, 3, 3, 1, 1])"
      ]
     },
     "execution_count": 135,
     "metadata": {},
     "output_type": "execute_result"
    }
   ],
   "source": [
    "from sklearn.cluster import KMeans\n",
    "\n",
    "kmeans = KMeans(n_clusters = 6) # ставим такое же кол-во кластеров, как и у DBSCAN\n",
    "clustersKMeans = kmeans.fit_predict(X_pca)\n",
    "clustersKMeans # предсказываем, в каком кластере окажется каждое предложение статьи"
   ]
  },
  {
   "cell_type": "code",
   "execution_count": 124,
   "metadata": {},
   "outputs": [
    {
     "data": {
      "image/png": "[encoded data removed]",
      "text/plain": [
       "<Figure size 1000x700 with 2 Axes>"
      ]
     },
     "metadata": {},
     "output_type": "display_data"
    },
    {
     "name": "stdout",
     "output_type": "stream",
     "text": [
      "Cluster 0:\n",
      "['Вертипорт  это аэродром предназначенный для вертикального взлёта и посадки воздушных судов таких как вертолёты и вертикально взлетающие и садящиеся VTOL самолёты', 'В отличие от большинства стартапов в области воздушного такси Skyportz выбрала электрические самолёты с коротким взлётом и посадкой eSTOL от ElectraAero вместо вертикального взлёта и посадки VTOL', 'Хотя для взлёта самолёты eSTOL требуют – метров взлётнопосадочной полосы в отличие от VTOL их низкие энергозатраты на взлёт позволяют им обеспечить больший дальность полёта на одной зарядке', 'Наш eSTOL идеально подходит для разнообразной географии Австралии он может использовать короткие взлётнопосадочные полосы как в городских так и в удалённых районах обеспечивая при этом высокую операционную эффективность']\n",
      "Cluster 1:\n",
      "['Австралийский разработчик вертипортов Skyportz начинает расширение своей деятельности с запуском авиакомпании Wilbur Air предлагающей грузовые и пассажирские перевозки', 'С запуском Wilbur Air компания расширяет свою роль в качестве поставщика воздушной инфраструктуры для конечных пользователей и клиентов', 'Изначально Skyportz планирует использовать  самолётов AAM американского производителя ElectraAero для своих транспортных услуг Wilbur Air', 'Кроме того компания планирует сотрудничать с устоявшимися авиаперевозчиками стремящимися расширить свою деятельность с помощью самолётов нового поколения']\n",
      "Cluster 2:\n",
      "['Они играют большую роль в интеграции беспилотных воздушных транспортных систем и управлении воздушным пространством в условиях повышенной мобильности', 'Создание этого дочернего предприятия направлено на ускорение внедрения и расширение ассортимента самолётов предлагаемых в австралийском воздушном пространстве']\n",
      "Cluster 3:\n",
      "['Для компании Skyportz вертипорты являются ключевым компонентом их деятельности в области Advanced Air Mobility AAM', 'За последние пять лет Skyportz посвятила свою деятельность развитию вертипортов по всей Австралии и провела обширные исследования для облегчения развития инфраструктуры AAM на международном уровне', 'Хотя Wilbur Air будет предпочтительной авиакомпанией для всех вертипортов Skyportz заявила что будет продолжать развивать и продавать свои вертипорты в качестве поставщиков инфраструктуры и услуг открытыхдля всех операторов AAM', 'Wilbur будет устанавливать партнёрские отношения по всей Австралии с существующими небольшими чартерными и вертолётными компаниями заинтересованными в переходе на Advanced Air Mobility и осуществлении полётов под брендом Wilbur с приоритетным доступом к нашим вертипортам Skyportz']\n",
      "Cluster 4:\n",
      "['Skyportz занимается разработкой строительством и эксплуатацией вертипортов по всей Австралии', 'Мы рассчитываем на поддержку Wilbur Air в улучшении региональной связности доступности и охране окружающей среды во всей Австралии  отметил директор по продукции ElectraAero Марк Аусман', 'Мы видим большой потенциал для самолётов Electra в Австралии учитывая их уникальную дальность полёта  заявил генеральный директор компании Клем НьютонБраун']\n",
      "Cluster 5:\n",
      "['Это системывключающие в себя взлётнопосадочные площадки терминалы для пассажиров зоны обслуживания а также инфраструктуру для зарядки и обслуживания электрических воздушных судов']\n"
     ]
    }
   ],
   "source": [
    "import pandas as pd\n",
    "\n",
    "dfKMeans = pd.DataFrame({'x': X_pca[:, 0], 'y': X_pca[:, 1], 'cluster': clustersKMeans})\n",
    "\n",
    "plt.figure(figsize=(10, 7))\n",
    "plt.scatter(dfKMeans['x'], dfKMeans['y'], c=dfKMeans['cluster'], cmap='viridis', marker='o')\n",
    "plt.title('KMeans Clustering')\n",
    "plt.xlabel('PCA Component 1')\n",
    "plt.ylabel('PCA Component 2')\n",
    "plt.colorbar(label='Cluster')\n",
    "plt.show()\n",
    "\n",
    "for cluster in set(clustersKMeans):\n",
    "    print(f\"Cluster {cluster}:\")\n",
    "    cluster_texts = [cleaned_article[i] for i in range(len(clustersKMeans)) if clustersKMeans[i] == cluster]\n",
    "    print(cluster_texts)"
   ]
  },
  {
   "cell_type": "markdown",
   "metadata": {},
   "source": [
    "<h2><strong>Анализ</strong></h2>"
   ]
  },
  {
   "cell_type": "markdown",
   "metadata": {},
   "source": [
    "<h5> В предложениях нулевого кластера можно наблюдать терминологию и особенности самолётов eSTOL и VTOL </h5>\n",
    "<h5> В предложениях первого кластера много информации об авиакомпании Wilbur Air, её запуске, роли, услугах </h5>\n",
    "<h5> В предложениях второго кластера содержится информация о развитии воздушно-транспортных средств (очень натянутое утверждение) </h5>\n",
    "<h5> В предложениях третьего кластера описывается, что \" для компании Skyportz вертипорты являются ключевым компонентом их деятельности в области Advanced Air Mobility AAM \" </h5>\n",
    "<h5> В предложениях четвёртого кластера описывается деятельность различных компаний на материке Австралия </h5>\n",
    "<h5> В пятый кластер попало всего лишь одно предложение </h5>"
   ]
  },
  {
   "cell_type": "markdown",
   "metadata": {},
   "source": [
    "<h2><strong>Результаты анализа</strong><h2>"
   ]
  },
  {
   "cell_type": "markdown",
   "metadata": {},
   "source": [
    "<h4> В результате кластеризации при помощи DBSCAN получилось 5 кластеров и один кластер с выбросами. Можно увидеть, что одно предложение нельзя отнести к какому-либо кластеру, поэтому оно является выбросом </h4>\n",
    "\n",
    "<h4> В результате кластеризации при помощи KMeans при 6 кластерах можно увидеть, что кластер могут образовывать как одно предложение, так и четыре сразу </h4>\n",
    "\n",
    "<h4> Некоторые темы кластеров при разных методах кластеризации имеют сходство между собой </h4>\n",
    "\n",
    "<h4> В обоих случаях есть кластер, в котором оказалось всего лишь одно предложение, и это предложение для двух методов одно и тоже </h4>"
   ]
  }
 ],
 "metadata": {
  "kernelspec": {
   "display_name": "Python 3",
   "language": "python",
   "name": "python3"
  },
  "language_info": {
   "codemirror_mode": {
    "name": "ipython",
    "version": 3
   },
   "file_extension": ".py",
   "mimetype": "text/x-python",
   "name": "python",
   "nbconvert_exporter": "python",
   "pygments_lexer": "ipython3",
   "version": "3.11.0"
  }
 },
 "nbformat": 4,
 "nbformat_minor": 2
}
